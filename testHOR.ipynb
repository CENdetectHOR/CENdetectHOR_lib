{
 "cells": [
  {
   "cell_type": "code",
   "execution_count": 1,
   "metadata": {},
   "outputs": [],
   "source": [
    "from treeFromClusters import new_leaves, merge_clades, new_tree\n",
    "from Bio import Phylo\n",
    "import numpy as np"
   ]
  },
  {
   "cell_type": "code",
   "execution_count": 2,
   "metadata": {},
   "outputs": [],
   "source": [
    "c1 = new_leaves(['one','two','three','four','five'])"
   ]
  },
  {
   "cell_type": "code",
   "execution_count": 3,
   "metadata": {},
   "outputs": [],
   "source": [
    "c1[0].start = 0\n",
    "c1[0].end = 100\n",
    "c1[1].start = 100\n",
    "c1[1].end = 200\n",
    "c1[2].start = 200\n",
    "c1[2].end = 300\n",
    "c1[3].start = 300\n",
    "c1[3].end = 400\n",
    "c1[4].start = 400\n",
    "c1[4].end = 500\n"
   ]
  },
  {
   "cell_type": "code",
   "execution_count": 4,
   "metadata": {},
   "outputs": [],
   "source": [
    "m1 = np.array([[0,1,1,0,0],[1,0,0,1,0],[0,0,0,0,1]])"
   ]
  },
  {
   "cell_type": "code",
   "execution_count": 5,
   "metadata": {},
   "outputs": [],
   "source": [
    "c2 = merge_clades(clades=c1, new_clusters_matrix=m1, branch_length=2)"
   ]
  },
  {
   "cell_type": "code",
   "execution_count": 6,
   "metadata": {},
   "outputs": [],
   "source": [
    "m2 = np.array([[0,1,1],[1,0,0]])"
   ]
  },
  {
   "cell_type": "code",
   "execution_count": 7,
   "metadata": {},
   "outputs": [],
   "source": [
    "c3 = merge_clades(clades=c2, new_clusters_matrix=m2, branch_length=3)"
   ]
  },
  {
   "cell_type": "code",
   "execution_count": 8,
   "metadata": {},
   "outputs": [],
   "source": [
    "m3 = np.array([[1,1]])"
   ]
  },
  {
   "cell_type": "code",
   "execution_count": 9,
   "metadata": {},
   "outputs": [],
   "source": [
    "c4 = merge_clades(clades=c3, new_clusters_matrix=m3, branch_length=5)"
   ]
  },
  {
   "cell_type": "code",
   "execution_count": 10,
   "metadata": {},
   "outputs": [],
   "source": [
    "t = new_tree(c4[0])"
   ]
  },
  {
   "cell_type": "code",
   "execution_count": 11,
   "metadata": {},
   "outputs": [
    {
     "name": "stdout",
     "output_type": "stream",
     "text": [
      "                                                          ______________ one\n",
      "                                     ____________________|\n",
      "  __________________________________|                    |______________ four\n",
      " |                                  |\n",
      "_|                                  |___________________________________ five\n",
      " |\n",
      " |                                                        ______________ two\n",
      " |_______________________________________________________|\n",
      "                                                         |______________ three\n",
      "\n"
     ]
    }
   ],
   "source": [
    "Phylo.draw_ascii(t)"
   ]
  },
  {
   "cell_type": "code",
   "execution_count": 13,
   "metadata": {},
   "outputs": [
    {
     "data": {
      "text/plain": [
       "100"
      ]
     },
     "execution_count": 13,
     "metadata": {},
     "output_type": "execute_result"
    }
   ],
   "source": [
    "c1[0].end"
   ]
  }
 ],
 "metadata": {
  "kernelspec": {
   "display_name": "env",
   "language": "python",
   "name": "python3"
  },
  "language_info": {
   "codemirror_mode": {
    "name": "ipython",
    "version": 3
   },
   "file_extension": ".py",
   "mimetype": "text/x-python",
   "name": "python",
   "nbconvert_exporter": "python",
   "pygments_lexer": "ipython3",
   "version": "3.11.7"
  },
  "orig_nbformat": 4
 },
 "nbformat": 4,
 "nbformat_minor": 2
}
