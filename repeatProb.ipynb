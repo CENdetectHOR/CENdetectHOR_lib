{
 "cells": [
  {
   "cell_type": "code",
   "execution_count": 1,
   "metadata": {},
   "outputs": [],
   "source": [
    "import scipy"
   ]
  },
  {
   "cell_type": "code",
   "execution_count": 6,
   "metadata": {},
   "outputs": [],
   "source": [
    "def probAtLeast(n, k, p):\n",
    "    return 1 - sum([p**i * (1-p)**(n-i) * scipy.special.binom(n, i) for i in range(0,k)])"
   ]
  },
  {
   "cell_type": "code",
   "execution_count": 12,
   "metadata": {},
   "outputs": [],
   "source": [
    "def probsForAnyK(n, p):\n",
    "    return [probAtLeast(n, k, p) for k in range (0,n+1)]"
   ]
  },
  {
   "cell_type": "code",
   "execution_count": 17,
   "metadata": {},
   "outputs": [],
   "source": [
    "def minKForProb(n, p, maxP):\n",
    "    for k in range (1,n+1):\n",
    "        if (probAtLeast(n, k, p) < maxP):\n",
    "            return k"
   ]
  },
  {
   "cell_type": "code",
   "execution_count": 28,
   "metadata": {},
   "outputs": [
    {
     "data": {
      "text/plain": [
       "[3,\n",
       " 4,\n",
       " 4,\n",
       " 4,\n",
       " 5,\n",
       " 5,\n",
       " 5,\n",
       " 6,\n",
       " 6,\n",
       " 7,\n",
       " 7,\n",
       " 7,\n",
       " 8,\n",
       " 8,\n",
       " 8,\n",
       " 9,\n",
       " 9,\n",
       " 9,\n",
       " 10,\n",
       " 10,\n",
       " 10,\n",
       " 11,\n",
       " 11,\n",
       " 11,\n",
       " 12,\n",
       " 12,\n",
       " 12]"
      ]
     },
     "execution_count": 28,
     "metadata": {},
     "output_type": "execute_result"
    }
   ],
   "source": [
    "[minKForProb(n, 0.25, 0.05) for n in range (3,30)]"
   ]
  },
  {
   "cell_type": "code",
   "execution_count": 47,
   "metadata": {},
   "outputs": [
    {
     "data": {
      "text/plain": [
       "195"
      ]
     },
     "execution_count": 47,
     "metadata": {},
     "output_type": "execute_result"
    }
   ],
   "source": [
    "minKForProb(700, 0.25, 0.05)"
   ]
  },
  {
   "cell_type": "code",
   "execution_count": 13,
   "metadata": {},
   "outputs": [
    {
     "data": {
      "text/plain": [
       "[1, 0.68359375, 0.26171875, 0.05078125, 0.00390625]"
      ]
     },
     "execution_count": 13,
     "metadata": {},
     "output_type": "execute_result"
    }
   ],
   "source": [
    "probsForAnyK(4, 0.25)"
   ]
  },
  {
   "cell_type": "code",
   "execution_count": 16,
   "metadata": {},
   "outputs": [
    {
     "data": {
      "text/plain": [
       "[1,\n",
       " 0.9999994336783435,\n",
       " 0.9999899949840698,\n",
       " 0.9999129123141672,\n",
       " 0.9995018047413536,\n",
       " 0.9978916334145003,\n",
       " 0.9929537746788165,\n",
       " 0.9806091278396073,\n",
       " 0.9547441535098355,\n",
       " 0.9084027411689946,\n",
       " 0.8363160997499084,\n",
       " 0.7377976898104908,\n",
       " 0.6183814353384693,\n",
       " 0.4890138263271129,\n",
       " 0.3629633354955347,\n",
       " 0.2519188554772397,\n",
       " 0.1630832714626037,\n",
       " 0.09830732478526494,\n",
       " 0.055123360333705795,\n",
       " 0.02873315983553071,\n",
       " 0.013917608678660542,\n",
       " 0.006262907247610916,\n",
       " 0.0026178113280634907,\n",
       " 0.0010161782725047752,\n",
       " 0.00036624022097364595,\n",
       " 0.00012251345164948635,\n",
       " 3.802150495046952e-05,\n",
       " 1.094075280339002e-05,\n",
       " 2.916826241317061e-06,\n",
       " 7.197987302864917e-07,\n",
       " 1.6422855508846368e-07,\n",
       " 3.459551423112828e-08,\n",
       " 6.71744093683202e-09,\n",
       " 1.1999056193090496e-09,\n",
       " 1.96717420131165e-10,\n",
       " 2.95193869348509e-11,\n",
       " 4.041544876542957e-12,\n",
       " 5.029310301551959e-13,\n",
       " 5.6621374255882984e-14,\n",
       " 5.773159728050814e-15,\n",
       " 5.551115123125783e-16,\n",
       " 1.1102230246251565e-16,\n",
       " 1.1102230246251565e-16,\n",
       " 1.1102230246251565e-16,\n",
       " 1.1102230246251565e-16,\n",
       " 1.1102230246251565e-16,\n",
       " 1.1102230246251565e-16,\n",
       " 1.1102230246251565e-16,\n",
       " 1.1102230246251565e-16,\n",
       " 1.1102230246251565e-16,\n",
       " 1.1102230246251565e-16]"
      ]
     },
     "execution_count": 16,
     "metadata": {},
     "output_type": "execute_result"
    }
   ],
   "source": [
    "probsForAnyK(50, 0.25)"
   ]
  }
 ],
 "metadata": {
  "kernelspec": {
   "display_name": "Python 3",
   "language": "python",
   "name": "python3"
  },
  "language_info": {
   "codemirror_mode": {
    "name": "ipython",
    "version": 3
   },
   "file_extension": ".py",
   "mimetype": "text/x-python",
   "name": "python",
   "nbconvert_exporter": "python",
   "pygments_lexer": "ipython3",
   "version": "3.10.9"
  },
  "orig_nbformat": 4,
  "vscode": {
   "interpreter": {
    "hash": "13c6ac28fed07205b72e4c350fb1d390aad55e2e45d6bba60e7aad8ea6859cca"
   }
  }
 },
 "nbformat": 4,
 "nbformat_minor": 2
}
