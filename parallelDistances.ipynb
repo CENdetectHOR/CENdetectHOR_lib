{
 "cells": [
  {
   "cell_type": "code",
   "execution_count": 1,
   "metadata": {},
   "outputs": [],
   "source": [
    "import multiprocessing\n",
    "import math\n",
    "import numpy as np\n",
    "import matplotlib.pyplot as plt\n",
    "from parallel_distance import build_seqs_distance_matrix, build_seqs_distance_matrix_by_chunks\n",
    "from Bio import SeqIO\n",
    "from Bio import Phylo\n",
    "from featureUtils import BED_file_to_features, feature_to_seq"
   ]
  },
  {
   "cell_type": "code",
   "execution_count": 2,
   "metadata": {},
   "outputs": [
    {
     "data": {
      "text/plain": [
       "10"
      ]
     },
     "execution_count": 2,
     "metadata": {},
     "output_type": "execute_result"
    }
   ],
   "source": [
    "multiprocessing.cpu_count()"
   ]
  },
  {
   "cell_type": "code",
   "execution_count": 3,
   "metadata": {},
   "outputs": [],
   "source": [
    "references = {seq.id : seq for seq in SeqIO.parse(\"./data/monomers/chr2_centromere_plus2Mb.fasta\", \"fasta\")}"
   ]
  },
  {
   "cell_type": "code",
   "execution_count": 4,
   "metadata": {},
   "outputs": [],
   "source": [
    "monomers_as_features = BED_file_to_features(\"./data/monomers/chr2_StringDecMon2extr_noMorgante.bed\")"
   ]
  },
  {
   "cell_type": "code",
   "execution_count": 5,
   "metadata": {},
   "outputs": [],
   "source": [
    "monomers_as_seqs = [feature_to_seq(feature, references) for feature in monomers_as_features]"
   ]
  },
  {
   "cell_type": "code",
   "execution_count": 6,
   "metadata": {},
   "outputs": [],
   "source": [
    "monomer_dists_seq = build_seqs_distance_matrix(monomers_as_seqs)"
   ]
  },
  {
   "cell_type": "code",
   "execution_count": 7,
   "metadata": {},
   "outputs": [
    {
     "name": "stdout",
     "output_type": "stream",
     "text": [
      "CPUs detected: 10\n",
      "# of chunks for computing distance matrix: 4\n",
      "Chunk size: 1777\n",
      "Blocks: ['([0:1](1777,1777))', '([0:2](1777,1777))', '([1:2](1777,1777))', '([0:3](1777,1776))', '([1:3](1777,1776))', '([2:3](1777,1776))', '([0:0](1777,1777),[1:1](1777,1777))', '([2:2](1777,1777),[3:3](1776,1776))']\n"
     ]
    },
    {
     "name": "stdout",
     "output_type": "stream",
     "text": [
      "Empty result shapes: [[(1777, 1777), (1777, 1777), (1777, 1777), (1777, 1776)], [(1777, 1777), (1777, 1777), (1777, 1777), (1777, 1776)], [(1777, 1777), (1777, 1777), (1777, 1777), (1777, 1776)], [(1776, 1777), (1776, 1777), (1776, 1777), (1776, 1776)]]\n",
      "Block result shapes: [[(1777, 1777), (1777, 1777), (1777, 1777), (1777, 1776)], [(1777, 1777), (1777, 1777), (1777, 1777), (1777, 1776)], [(1777, 1777), (1777, 1777), (1777, 1777), (1777, 1776)], [(1776, 1777), (1776, 1777), (1776, 1777), (1776, 1776)]]\n"
     ]
    }
   ],
   "source": [
    "monomer_dists_par = build_seqs_distance_matrix_by_chunks(monomers_as_seqs)"
   ]
  },
  {
   "cell_type": "code",
   "execution_count": 10,
   "metadata": {},
   "outputs": [],
   "source": [
    "with open('dist_matrix.npy', 'wb') as f:\n",
    "    np.save(f, monomer_dists_par)"
   ]
  },
  {
   "cell_type": "code",
   "execution_count": 9,
   "metadata": {},
   "outputs": [
    {
     "data": {
      "text/plain": [
       "True"
      ]
     },
     "execution_count": 9,
     "metadata": {},
     "output_type": "execute_result"
    }
   ],
   "source": [
    "np.array_equal(monomer_dists_seq, monomer_dists_par)"
   ]
  }
 ],
 "metadata": {
  "kernelspec": {
   "display_name": "env",
   "language": "python",
   "name": "python3"
  },
  "language_info": {
   "codemirror_mode": {
    "name": "ipython",
    "version": 3
   },
   "file_extension": ".py",
   "mimetype": "text/x-python",
   "name": "python",
   "nbconvert_exporter": "python",
   "pygments_lexer": "ipython3",
   "version": "3.11.7"
  }
 },
 "nbformat": 4,
 "nbformat_minor": 2
}
