{
 "cells": [
  {
   "cell_type": "code",
   "execution_count": 1,
   "metadata": {},
   "outputs": [],
   "source": [
    "import numpy as np\n",
    "import matplotlib.pyplot as plt\n",
    "from Bio import SeqIO\n",
    "from Bio.Phylo.PhyloXML import Phyloxml\n",
    "from Bio.Phylo import PhyloXMLIO, draw\n",
    "from Bio.Phylo.BaseTree import Tree, Clade\n",
    "from hor_tree import phylogeny_to_hor_tree\n",
    "from hor import hor_tree_to_phylogeny\n",
    "from showHOR import show_hor_tree\n",
    "import copy\n"
   ]
  },
  {
   "cell_type": "code",
   "execution_count": 2,
   "metadata": {},
   "outputs": [],
   "source": [
    "references = {seq.id : seq for seq in SeqIO.parse(\"./data/debug/HSA.FULLchr.fasta\", \"fasta\")}"
   ]
  },
  {
   "cell_type": "code",
   "execution_count": 3,
   "metadata": {},
   "outputs": [],
   "source": [
    "phyloXml: Phyloxml = PhyloXMLIO.read('data/debug/phylogeny.xml')"
   ]
  },
  {
   "cell_type": "code",
   "execution_count": 4,
   "metadata": {},
   "outputs": [],
   "source": [
    "phylogeny = phyloXml.phylogenies[0]"
   ]
  },
  {
   "cell_type": "code",
   "execution_count": 5,
   "metadata": {},
   "outputs": [],
   "source": [
    "hor_tree_root = phylogeny_to_hor_tree(phylogeny, min_loops=5)"
   ]
  },
  {
   "cell_type": "code",
   "execution_count": 6,
   "metadata": {},
   "outputs": [
    {
     "name": "stderr",
     "output_type": "stream",
     "text": [
      "/Users/miguel/git/dna-repeat-discovery/env/lib/python3.11/site-packages/Bio/Phylo/PhyloXML.py:985: PhyloXMLWarning: String monomer_clade_seq doesn't match the given regexp\n",
      "  _check_str(ref, self.re_ref.match)\n"
     ]
    }
   ],
   "source": [
    "hor_phylogeny = hor_tree_to_phylogeny(hor_tree_root)"
   ]
  },
  {
   "cell_type": "code",
   "execution_count": 7,
   "metadata": {},
   "outputs": [
    {
     "data": {
      "text/plain": [
       "1"
      ]
     },
     "execution_count": 7,
     "metadata": {},
     "output_type": "execute_result"
    }
   ],
   "source": [
    "phyloXml = Phyloxml(phylogenies=[hor_phylogeny], attributes=None)\n",
    "PhyloXMLIO.write(phyloXml, 'data/debug/HORs.xml')"
   ]
  },
  {
   "cell_type": "code",
   "execution_count": 8,
   "metadata": {},
   "outputs": [
    {
     "data": {
      "text/plain": [
       "2"
      ]
     },
     "execution_count": 8,
     "metadata": {},
     "output_type": "execute_result"
    }
   ],
   "source": [
    "phyloXml = Phyloxml(phylogenies=[phylogeny, hor_phylogeny], attributes=None)\n",
    "PhyloXMLIO.write(phyloXml, 'data/debug/monomer_phylogeny_and_HORs.xml')"
   ]
  }
 ],
 "metadata": {
  "kernelspec": {
   "display_name": "env",
   "language": "python",
   "name": "python3"
  },
  "language_info": {
   "codemirror_mode": {
    "name": "ipython",
    "version": 3
   },
   "file_extension": ".py",
   "mimetype": "text/x-python",
   "name": "python",
   "nbconvert_exporter": "python",
   "pygments_lexer": "ipython3",
   "version": "3.11.7"
  }
 },
 "nbformat": 4,
 "nbformat_minor": 2
}
