{
 "cells": [
  {
   "cell_type": "code",
   "execution_count": 1,
   "metadata": {},
   "outputs": [],
   "source": [
    "import numpy as np\n",
    "import matplotlib.pyplot as plt\n",
    "from Bio import SeqIO\n",
    "from Bio import Phylo\n",
    "from featureUtils import BED_file_to_features, feature_to_seq\n",
    "from Bio.Phylo.PhyloXML import Phyloxml\n",
    "from hierarchical_clustering import hierarchical_clustering, build_phylogeny, get_matrices, save_phylogeny, save_matrices, load_phylogeny, load_matrices"
   ]
  },
  {
   "cell_type": "code",
   "execution_count": 2,
   "metadata": {},
   "outputs": [],
   "source": [
    "references = {seq.id : seq for seq in SeqIO.parse(\"./data/monomers/chr2_centromere_plus2Mb.fasta\", \"fasta\")}"
   ]
  },
  {
   "cell_type": "code",
   "execution_count": 3,
   "metadata": {},
   "outputs": [],
   "source": [
    "monomers_as_features = BED_file_to_features(\"./data/monomers/chr2_StringDecMon2extr_noMorgante.bed\")"
   ]
  },
  {
   "cell_type": "code",
   "execution_count": 4,
   "metadata": {},
   "outputs": [],
   "source": [
    "# sample_size = len(monomers_as_features)\n",
    "sample_size = 10"
   ]
  },
  {
   "cell_type": "code",
   "execution_count": 5,
   "metadata": {},
   "outputs": [],
   "source": [
    "monomers_as_features = monomers_as_features[0:sample_size]"
   ]
  },
  {
   "cell_type": "code",
   "execution_count": 6,
   "metadata": {},
   "outputs": [],
   "source": [
    "monomers_as_seqs = [feature_to_seq(feature, references) for feature in monomers_as_features]"
   ]
  },
  {
   "cell_type": "code",
   "execution_count": 7,
   "metadata": {},
   "outputs": [],
   "source": [
    "dist_matrix = np.load('data/dist_matrix.npy')"
   ]
  },
  {
   "cell_type": "code",
   "execution_count": 8,
   "metadata": {},
   "outputs": [],
   "source": [
    "dist_matrix = dist_matrix[0:sample_size,0:sample_size]"
   ]
  },
  {
   "cell_type": "code",
   "execution_count": 9,
   "metadata": {},
   "outputs": [],
   "source": [
    "phylogeny = hierarchical_clustering(dist_matrix=dist_matrix)\n",
    "save_phylogeny(phylogeny=phylogeny, filename='data/phylo')"
   ]
  },
  {
   "cell_type": "code",
   "execution_count": 10,
   "metadata": {},
   "outputs": [],
   "source": [
    "matrices_res = get_matrices(phylogeny)\n",
    "save_matrices(matrices_result=matrices_res, base_dir='data/phylo_matrices/')"
   ]
  },
  {
   "cell_type": "code",
   "execution_count": 12,
   "metadata": {},
   "outputs": [
    {
     "data": {
      "text/plain": [
       "1"
      ]
     },
     "execution_count": 12,
     "metadata": {},
     "output_type": "execute_result"
    }
   ],
   "source": [
    "phyloXml = Phyloxml(phylogenies=[build_phylogeny(simple_phylogeny=phylogeny, features=monomers_as_features)], attributes=None)\n",
    "Phylo.write(phyloXml, 'data/phylogeny.xml', format='phyloxml')"
   ]
  }
 ],
 "metadata": {
  "kernelspec": {
   "display_name": "env",
   "language": "python",
   "name": "python3"
  },
  "language_info": {
   "codemirror_mode": {
    "name": "ipython",
    "version": 3
   },
   "file_extension": ".py",
   "mimetype": "text/x-python",
   "name": "python",
   "nbconvert_exporter": "python",
   "pygments_lexer": "ipython3",
   "version": "3.11.7"
  }
 },
 "nbformat": 4,
 "nbformat_minor": 2
}
