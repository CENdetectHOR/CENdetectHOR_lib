{
 "cells": [
  {
   "cell_type": "code",
   "execution_count": 82,
   "id": "48c929ac-a43f-41e8-9c0f-fbab2957adc8",
   "metadata": {},
   "outputs": [],
   "source": [
    "import numpy as np\n",
    "import re\n",
    "import random"
   ]
  },
  {
   "cell_type": "code",
   "execution_count": 83,
   "id": "f36d950f-e3d5-472a-8a2d-8072d9d85d73",
   "metadata": {},
   "outputs": [],
   "source": [
    "file=\"./chr11_HSA.fasta\"\n",
    "out=\"./output/extract5mon/test.fasta\"\n",
    "mon=171\n",
    "consensus=\"./human_cons_alphasat.txt\""
   ]
  },
  {
   "cell_type": "code",
   "execution_count": 84,
   "id": "f557c061-7250-41cf-9547-263c96d0c847",
   "metadata": {},
   "outputs": [],
   "source": [
    "seq=[]\n",
    "with open(file, \"r\") as f:\n",
    "    for l,line in enumerate(f):\n",
    "        if l==0:\n",
    "            line=line.strip()\n",
    "            line=re.split(':|-|>',line)\n",
    "            chrom=line[1]\n",
    "            start=line[2]\n",
    "            end=line[3]\n",
    "\n",
    "        else:\n",
    "            seq.append(line.strip())\n",
    "seq=[x for y in seq for x in y]\n",
    "len_seq=len(seq)"
   ]
  },
  {
   "cell_type": "code",
   "execution_count": 85,
   "id": "75c159c6-5980-41dd-8774-47d64bac4d96",
   "metadata": {},
   "outputs": [],
   "source": [
    "cons=[]\n",
    "with open(consensus, \"r\") as c:\n",
    "    for b,line in enumerate(c):\n",
    "        if b==0:\n",
    "            continue\n",
    "        else:\n",
    "            cons.append(line.strip())\n",
    "cons=[x for y in cons for x in y]\n",
    "mon_start=cons[0:6]"
   ]
  },
  {
   "cell_type": "code",
   "execution_count": 87,
   "id": "77eead9e-2835-4505-a546-11b2968d36e3",
   "metadata": {
    "tags": []
   },
   "outputs": [],
   "source": [
    "start_list=[]\n",
    "mon_list=[]\n",
    "monstart=\"\".join(mon_start)\n",
    "for b,base in enumerate(seq):\n",
    "    checkend=int(b)+6\n",
    "    start2check=seq[int(b):int(checkend)]\n",
    "    s2c=\"\".join(start2check)\n",
    "    if s2c==monstart:\n",
    "        start_list.append(b)        "
   ]
  },
  {
   "cell_type": "code",
   "execution_count": 88,
   "id": "93efb89c-3e30-4648-bff8-6a1a6cbee30a",
   "metadata": {},
   "outputs": [],
   "source": [
    "for t,temp in enumerate(start_list):\n",
    "    if t==0:\n",
    "        prev=int(temp)\n",
    "    else:\n",
    "        mon2app=seq[int(prev):int(temp)]\n",
    "        mon_list.append(mon2app)\n",
    "        prev=temp\n",
    "fin_mon_list=[x for x in mon_list if len(x)==mon]\n",
    "fin_mon_list=[\"\".join(m) for m in fin_mon_list]\n",
    "random_seq=random.sample(fin_mon_list, 5)\n",
    "with open(chrom+\"_5mons.fasta\", \"w\") as o:\n",
    "    for r,ran in enumerate(random_seq):\n",
    "        o.write(\">mon\"+str(r+1)+\"\\n\")\n",
    "        o.write(ran+\"\\n\")\n",
    "\n"
   ]
  },
  {
   "cell_type": "code",
   "execution_count": null,
   "id": "c1a99495-2e6c-4a41-a1f3-fc1d72e9f2c0",
   "metadata": {},
   "outputs": [],
   "source": []
  }
 ],
 "metadata": {
  "kernelspec": {
   "display_name": "Python 3 (ipykernel)",
   "language": "python",
   "name": "python3"
  },
  "language_info": {
   "codemirror_mode": {
    "name": "ipython",
    "version": 3
   },
   "file_extension": ".py",
   "mimetype": "text/x-python",
   "name": "python",
   "nbconvert_exporter": "python",
   "pygments_lexer": "ipython3",
   "version": "3.9.12"
  }
 },
 "nbformat": 4,
 "nbformat_minor": 5
}
