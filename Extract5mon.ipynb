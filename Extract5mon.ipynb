{
 "cells": [
  {
   "cell_type": "code",
   "execution_count": 73,
   "id": "48c929ac-a43f-41e8-9c0f-fbab2957adc8",
   "metadata": {},
   "outputs": [],
   "source": [
    "import numpy as np\n",
    "import re\n",
    "import random"
   ]
  },
  {
   "cell_type": "code",
   "execution_count": 74,
   "id": "f36d950f-e3d5-472a-8a2d-8072d9d85d73",
   "metadata": {},
   "outputs": [],
   "source": [
    "file=\"./chr11_HSA.fasta\"\n",
    "out=\"./output/extract5mon/test.fasta\"\n",
    "mon=171\n",
    "consensus=\"./human_cons_alphasat.txt\""
   ]
  },
  {
   "cell_type": "code",
   "execution_count": 75,
   "id": "f557c061-7250-41cf-9547-263c96d0c847",
   "metadata": {},
   "outputs": [],
   "source": [
    "seq=[]\n",
    "with open(file, \"r\") as f:\n",
    "    for l,line in enumerate(f):\n",
    "        if l==0:\n",
    "            line=line.strip()\n",
    "            line=re.split(':|-|>',line)\n",
    "            chrom=line[1]\n",
    "            start=line[2]\n",
    "            end=line[3]\n",
    "\n",
    "        else:\n",
    "            seq.append(line.strip())\n",
    "seq=[x for y in seq for x in y]\n",
    "len_seq=len(seq)"
   ]
  },
  {
   "cell_type": "code",
   "execution_count": 76,
   "id": "75c159c6-5980-41dd-8774-47d64bac4d96",
   "metadata": {},
   "outputs": [
    {
     "name": "stdout",
     "output_type": "stream",
     "text": [
      "['C', 'A', 'T', 'T', 'C', 'T']\n"
     ]
    }
   ],
   "source": [
    "cons=[]\n",
    "with open(consensus, \"r\") as c:\n",
    "    for b,line in enumerate(c):\n",
    "        if b==0:\n",
    "            continue\n",
    "        else:\n",
    "            cons.append(line.strip())\n",
    "cons=[x for y in cons for x in y]\n",
    "mon_start=cons[0:6]"
   ]
  },
  {
   "cell_type": "code",
   "execution_count": 77,
   "id": "77eead9e-2835-4505-a546-11b2968d36e3",
   "metadata": {
    "tags": []
   },
   "outputs": [
    {
     "name": "stdout",
     "output_type": "stream",
     "text": [
      "['C', 'A', 'T', 'T', 'C', 'T']\n",
      "CATTCT\n",
      "250\n",
      "420\n",
      "591\n",
      "933\n",
      "1447\n",
      "1617\n",
      "1788\n",
      "1959\n",
      "2298\n",
      "2468\n",
      "2638\n",
      "2980\n",
      "3237\n",
      "3494\n",
      "3664\n",
      "3835\n",
      "4006\n",
      "4345\n",
      "4515\n",
      "4686\n",
      "4857\n",
      "5196\n",
      "5366\n",
      "5537\n",
      "5708\n",
      "6217\n",
      "6388\n",
      "6559\n",
      "6898\n",
      "7068\n",
      "7239\n",
      "7410\n",
      "7919\n",
      "8770\n",
      "8941\n",
      "9112\n",
      "9620\n",
      "9791\n",
      "9962\n",
      "10301\n",
      "10471\n",
      "10642\n",
      "10813\n",
      "11151\n",
      "11321\n",
      "11492\n",
      "11663\n",
      "12005\n",
      "12519\n",
      "12689\n",
      "12860\n",
      "13031\n",
      "13370\n",
      "13540\n",
      "13711\n",
      "14053\n",
      "14395\n",
      "14909\n",
      "15079\n",
      "15250\n",
      "15421\n",
      "15760\n",
      "15930\n",
      "[250, 420, 591, 933, 1447, 1617, 1788, 1959, 2298, 2468, 2638, 2980, 3237, 3494, 3664, 3835, 4006, 4345, 4515, 4686, 4857, 5196, 5366, 5537, 5708, 6217, 6388, 6559, 6898, 7068, 7239, 7410, 7919, 8770, 8941, 9112, 9620, 9791, 9962, 10301, 10471, 10642, 10813, 11151, 11321, 11492, 11663, 12005, 12519, 12689, 12860, 13031, 13370, 13540, 13711, 14053, 14395, 14909, 15079, 15250, 15421, 15760, 15930]\n"
     ]
    }
   ],
   "source": [
    "print(mon_start)\n",
    "start_list=[]\n",
    "mon_list=[]\n",
    "monstart=\"\".join(mon_start)\n",
    "print(monstart)\n",
    "for b,base in enumerate(seq):\n",
    "    checkend=int(b)+6\n",
    "    start2check=seq[int(b):int(checkend)]\n",
    "    s2c=\"\".join(start2check)\n",
    "    if s2c==monstart:\n",
    "        start_list.append(b)        "
   ]
  },
  {
   "cell_type": "code",
   "execution_count": 81,
   "id": "93efb89c-3e30-4648-bff8-6a1a6cbee30a",
   "metadata": {},
   "outputs": [],
   "source": [
    "for t,temp in enumerate(start_list):\n",
    "    if t==0:\n",
    "        prev=int(temp)\n",
    "    else:\n",
    "        mon2app=seq[int(prev):int(temp)]\n",
    "        mon_list.append(mon2app)\n",
    "        prev=temp\n",
    "fin_mon_list=[x for x in mon_list if len(x)==mon]\n",
    "fin_mon_list=[\"\".join(m) for m in fin_mon_list]\n",
    "random_seq=random.sample(fin_mon_list, 5)\n",
    "with open(chrom+\"_5mons.fasta\", \"w\") as o:\n",
    "    for r,ran in enumerate(random_seq):\n",
    "        o.write(\">mon\"+str(r+1)+\"\\n\")\n",
    "        o.write(ran+\"\\n\")\n",
    "\n"
   ]
  },
  {
   "cell_type": "code",
   "execution_count": 79,
   "id": "a56c90d0-8dd7-4d77-926c-660e334edf11",
   "metadata": {},
   "outputs": [
    {
     "name": "stdout",
     "output_type": "stream",
     "text": [
      "['CATTCTCAGAAACTTCTGTGTGATGATTGCATTCAGGTCACAGAGTTGAACCCTCCATTTGATTGAGCAGTTTGGAAACTCTCTTTTTGTAGAATCTGTAAGAGGATATGCGGACTTCTTTGAAGATTTCTTTGGAAACGGGAATATCTTCACAGAAAAACTAAACTGAAG', 'CATTCTCAGAATGTTTCCTGTGATGACTGCATTCAACTCACAGAGGTGAACAATCCTGCTGATGGAGCAGTTTTGAAACTCTCTTTCTTTGGATTCTGCAAGTGGATATGTGGACCTCTTTGAAGATTTCATTGGAAAAGTGTTCATCTTCACATAAAAACTAAACAGAAG', 'CATTCTCAGAATGTTTCCTGTGATGACTGCATTCAACGCACAGAGGTGAACAATCCTGCTGATGGAGCAGTTTTGAAACTCTCTTTCTTTGGAATCTGCAAGTGGATATGTGGACCTCTTTGAAGATTTCCTTGGAAACGGGTTCATCTTCACCTAAAAACTAAAGAGAAG', 'CATTCTCAGAAACTGCTTTGTGATGTTTGTGTTCCACTTCAAGAATTCAACTTTCCTCTTGATAGAGCAGCTCTGAAACCCTCTTTTTCTAGAATCTGCAAGTGGACATTTGGAGGGCTTTGAGGCCTGTGGTGGAAAAGGAAATATCTTCACATAAAAACTAGATGGAAG', 'CATTCTCAGAAACTGCTTTGTGGTGTTTGTGTTCCACTCCAAGTATTGAACTTTCCTCTTGACAGAGCAGCTCTGAAACCCTCTTTTTCTAGAATCTGCCAGTGGACATTTGTTGGGCTTTGAGGCCTGTGGTGGAAAAGGAAATATCTTCACATAAAAACTAGATGGAAG']\n"
     ]
    }
   ],
   "source": [
    "print(random.sample(fin_mon_list, 5))"
   ]
  },
  {
   "cell_type": "code",
   "execution_count": 55,
   "id": "b549a683-e7df-4eb6-8299-402a747932c0",
   "metadata": {},
   "outputs": [
    {
     "data": {
      "text/plain": [
       "[250,\n",
       " 420,\n",
       " 591,\n",
       " 933,\n",
       " 1447,\n",
       " 1617,\n",
       " 1788,\n",
       " 1959,\n",
       " 2298,\n",
       " 2468,\n",
       " 2638,\n",
       " 2980,\n",
       " 3237,\n",
       " 3494,\n",
       " 3664,\n",
       " 3835,\n",
       " 4006,\n",
       " 4345,\n",
       " 4515,\n",
       " 4686,\n",
       " 4857,\n",
       " 5196,\n",
       " 5366,\n",
       " 5537,\n",
       " 5708,\n",
       " 6217,\n",
       " 6388,\n",
       " 6559,\n",
       " 6898,\n",
       " 7068,\n",
       " 7239,\n",
       " 7410,\n",
       " 7919,\n",
       " 8770,\n",
       " 8941,\n",
       " 9112,\n",
       " 9620,\n",
       " 9791,\n",
       " 9962,\n",
       " 10301,\n",
       " 10471,\n",
       " 10642,\n",
       " 10813,\n",
       " 11151,\n",
       " 11321,\n",
       " 11492,\n",
       " 11663,\n",
       " 12005,\n",
       " 12519,\n",
       " 12689,\n",
       " 12860,\n",
       " 13031,\n",
       " 13370,\n",
       " 13540,\n",
       " 13711,\n",
       " 14053,\n",
       " 14395,\n",
       " 14909,\n",
       " 15079,\n",
       " 15250,\n",
       " 15421,\n",
       " 15760,\n",
       " 15930]"
      ]
     },
     "execution_count": 55,
     "metadata": {},
     "output_type": "execute_result"
    }
   ],
   "source": [
    "start_list"
   ]
  },
  {
   "cell_type": "code",
   "execution_count": null,
   "id": "c1a99495-2e6c-4a41-a1f3-fc1d72e9f2c0",
   "metadata": {},
   "outputs": [],
   "source": []
  }
 ],
 "metadata": {
  "kernelspec": {
   "display_name": "Python 3 (ipykernel)",
   "language": "python",
   "name": "python3"
  },
  "language_info": {
   "codemirror_mode": {
    "name": "ipython",
    "version": 3
   },
   "file_extension": ".py",
   "mimetype": "text/x-python",
   "name": "python",
   "nbconvert_exporter": "python",
   "pygments_lexer": "ipython3",
   "version": "3.9.12"
  }
 },
 "nbformat": 4,
 "nbformat_minor": 5
}
